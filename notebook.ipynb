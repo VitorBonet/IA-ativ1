{
 "cells": [
  {
   "cell_type": "code",
   "execution_count": 5,
   "source": [
    "import numpy\n",
    "\n",
    "def f(u):\n",
    "    if u >= 0:\n",
    "        return 1\n",
    "    else:\n",
    "        return -1\n",
    "\n",
    "def findOutput(data, w):\n",
    "    u = 0.0\n",
    "    for i in range(0, len(data)):\n",
    "        u += w[i]*data[i]\n",
    "\n",
    "    return f(u)\n",
    "\n",
    "# initialization\n",
    "p = [[1,1,-1],[1,-1,-1],[-1,1,-1],[-1,-1,-1]] # conjunto de valores de entrada ampliados com a entrada dummy\n",
    "d = [1, 1, 1, -1] # saidas desejadas\n",
    "w = numpy.random.rand(len(p[0])) # inicializacao randomica dos pesos\n",
    "\n",
    "c = 0.5          #taxa de aprendizado\n",
    "d_error = 0.01   #erro desejado\n",
    "\n",
    "iter = 0\n",
    "while True:\n",
    "    error = 0\n",
    "    for i in range(0, len(p)):\n",
    "        o = findOutput(p[i], w)\n",
    "        error += ((d[i]-o)**2)/2\n",
    "        learningSignal = c*(d[i]-o)\n",
    "        for k in range(0, len(p[i])):\n",
    "            w[k] += learningSignal*p[i][k]\n",
    "\n",
    "    iter += 1\n",
    "    print(error, \" ## \", w)\n",
    "    if error < d_error:\n",
    "        print('N. iterations:', iter)\n",
    "        break\n",
    "\n",
    "print(findOutput([1,1,-1],w))\n",
    "print(findOutput([1,-1,-1],w))\n",
    "print(findOutput([-1,1,-1],w))\n",
    "print(findOutput([-1,-1,-1],w))\n",
    "\n",
    "# print result\n"
   ],
   "outputs": [
    {
     "output_type": "stream",
     "name": "stdout",
     "text": [
      "4.0  ##  [ 0.73071616  0.94918724 -1.24542675]\n",
      "0.0  ##  [ 0.73071616  0.94918724 -1.24542675]\n",
      "N. iterations: 2\n",
      "1\n",
      "1\n",
      "1\n",
      "-1\n"
     ]
    }
   ],
   "metadata": {}
  }
 ],
 "metadata": {
  "orig_nbformat": 4,
  "language_info": {
   "name": "python",
   "version": "3.8.8",
   "mimetype": "text/x-python",
   "codemirror_mode": {
    "name": "ipython",
    "version": 3
   },
   "pygments_lexer": "ipython3",
   "nbconvert_exporter": "python",
   "file_extension": ".py"
  },
  "kernelspec": {
   "name": "python3",
   "display_name": "Python 3.8.8 64-bit (conda)"
  },
  "interpreter": {
   "hash": "6d4093bf0d82cf9d7cbff82fec796d9e3de98a5c49021a907317f555ca0caf40"
  }
 },
 "nbformat": 4,
 "nbformat_minor": 2
}